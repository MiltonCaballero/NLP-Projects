{
 "cells": [
  {
   "cell_type": "code",
   "execution_count": 1,
   "id": "d9cec972",
   "metadata": {},
   "outputs": [
    {
     "ename": "ModuleNotFoundError",
     "evalue": "No module named 'svm_visualization'",
     "output_type": "error",
     "traceback": [
      "\u001b[0;31m---------------------------------------------------------------------------\u001b[0m",
      "\u001b[0;31mModuleNotFoundError\u001b[0m                       Traceback (most recent call last)",
      "Cell \u001b[0;32mIn[1], line 4\u001b[0m\n\u001b[1;32m      2\u001b[0m \u001b[38;5;28;01mfrom\u001b[39;00m \u001b[38;5;21;01msklearn\u001b[39;00m\u001b[38;5;21;01m.\u001b[39;00m\u001b[38;5;21;01msvm\u001b[39;00m \u001b[38;5;28;01mimport\u001b[39;00m SVC\n\u001b[1;32m      3\u001b[0m \u001b[38;5;28;01mfrom\u001b[39;00m \u001b[38;5;21;01msklearn\u001b[39;00m\u001b[38;5;21;01m.\u001b[39;00m\u001b[38;5;21;01mmodel_selection\u001b[39;00m \u001b[38;5;28;01mimport\u001b[39;00m train_test_split\n\u001b[0;32m----> 4\u001b[0m \u001b[38;5;28;01mfrom\u001b[39;00m \u001b[38;5;21;01msvm_visualization\u001b[39;00m \u001b[38;5;28;01mimport\u001b[39;00m draw_boundary\n\u001b[1;32m      5\u001b[0m \u001b[38;5;28;01mfrom\u001b[39;00m \u001b[38;5;21;01mplayers\u001b[39;00m \u001b[38;5;28;01mimport\u001b[39;00m aaron_judge, jose_altuve, david_ortiz\n\u001b[1;32m      6\u001b[0m \u001b[38;5;28;01mimport\u001b[39;00m \u001b[38;5;21;01mnumpy\u001b[39;00m \u001b[38;5;28;01mas\u001b[39;00m \u001b[38;5;21;01mnp\u001b[39;00m\n",
      "\u001b[0;31mModuleNotFoundError\u001b[0m: No module named 'svm_visualization'"
     ]
    }
   ],
   "source": [
    "import matplotlib.pyplot as plt\n",
    "from sklearn.svm import SVC\n",
    "from sklearn.model_selection import train_test_split\n",
    "from svm_visualization import draw_boundary\n",
    "from players import aaron_judge, jose_altuve, david_ortiz\n",
    "import numpy as np\n",
    "\n",
    "fig, ax = plt.subplots()\n",
    "\n",
    "def find_strikezone(data_set):\n",
    "  data_set['type'] = data_set['type'].map({'S':1, 'B':0})\n",
    "  #print(aaron_judge['type'])\n",
    "\n",
    "  data_set = data_set.dropna(subset = ['plate_x', 'plate_z', 'type'])\n",
    "\n",
    "  plt.scatter(data_set['plate_x'],data_set['plate_z'],c=data_set['type'],cmap=plt.cm.coolwarm,alpha=0.25)\n",
    "  training_set,validation_set = train_test_split(data_set, random_state=1)\n",
    " \n",
    "  largest = {'value':0,'gamma':1, 'C':1}\n",
    "  for gamma in range(1,5):\n",
    "    for c in range(1,5):\n",
    "      classifier = SVC(kernel='rbf',gamma=gamma,C=c)\n",
    "      classifier.fit(training_set[['plate_x','plate_z']],training_set['type'])\n",
    "      score = classifier.score(validation_set[['plate_x','plate_z']],validation_set['type'])\n",
    "      if(score > largest['value']):\n",
    "        largest['value'] = score\n",
    "        largest['gamma'] = gamma\n",
    "        largest['C'] = c\n",
    "  print(largest)\n",
    "  draw_boundary(ax,classifier)\n",
    "  ax.set_ylim(-2, 6)\n",
    "  ax.set_xlim(-3, 3)\n",
    "  plt.show()\n",
    "\n",
    "find_strikezone(david_ortiz)\n",
    "\n",
    "\n"
   ]
  }
 ],
 "metadata": {
  "kernelspec": {
   "display_name": "Python 3 (ipykernel)",
   "language": "python",
   "name": "python3"
  },
  "language_info": {
   "codemirror_mode": {
    "name": "ipython",
    "version": 3
   },
   "file_extension": ".py",
   "mimetype": "text/x-python",
   "name": "python",
   "nbconvert_exporter": "python",
   "pygments_lexer": "ipython3",
   "version": "3.11.5"
  }
 },
 "nbformat": 4,
 "nbformat_minor": 5
}
