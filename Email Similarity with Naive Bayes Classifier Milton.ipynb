{
 "cells": [
  {
   "cell_type": "code",
   "execution_count": 1,
   "id": "ba483d1c",
   "metadata": {},
   "outputs": [],
   "source": [
    "from sklearn.datasets import fetch_20newsgroups\n",
    "from sklearn.naive_bayes import MultinomialNB\n",
    "from sklearn.feature_extraction.text import CountVectorizer\n",
    "\n",
    "emails = fetch_20newsgroups(categories=['comp.sys.ibm.pc.hardware','rec.sport.hockey']\n",
    "                            , subset='train',shuffle=True,random_state=108)"
   ]
  },
  {
   "cell_type": "code",
   "execution_count": 2,
   "id": "67d431b7",
   "metadata": {
    "scrolled": true
   },
   "outputs": [
    {
     "name": "stdout",
     "output_type": "stream",
     "text": [
      "['comp.sys.ibm.pc.hardware', 'rec.sport.hockey']\n"
     ]
    }
   ],
   "source": [
    "print(emails.target_names)"
   ]
  },
  {
   "cell_type": "code",
   "execution_count": 3,
   "id": "2d0dd5c6",
   "metadata": {},
   "outputs": [
    {
     "name": "stdout",
     "output_type": "stream",
     "text": [
      "From: harter5255@iscsvax.uni.edu\n",
      "Subject: Help on hand scanners wanted\n",
      "Organization: University of Northern Iowa\n",
      "Lines: 30\n",
      "\n",
      "Fellow netters,\n",
      "\n",
      "I'm in the market for a hand scanner.  However, I don't know anyone who has\n",
      "one.  I have my eye on two choices.\n",
      "\n",
      "Dexxa:  This scanner is available at Wal-Mart for $90.  It includes GrayWorks\n",
      "software and provides 400 dpi and 32 grayscales (I think).  The OCR software\n",
      "Catchword is available through mail-order for about $90 also.\n",
      "\n",
      "Mustek:  (Gray Artist for Windows)  This scanner offers 256 grayscales\n",
      "(according to Cad & Graphics) and 800 dpi.  It is available for $169\n",
      "mail-order and comes with Perceive OCR and Picture Publisher LE.\n",
      "\n",
      "I am also looking at a Genius hand scanner (B105) from Cad & Graphics.  It\n",
      "is basically the same as the Mustek scanner except for the resolution (400\n",
      "dpi) and price ($149).  \n",
      "\n",
      "Basically, I would like recommendations on which to buy.  I have heard that\n",
      "Logitech makes the best and manufactures Dexxa scanners.  But which one is the\n",
      "best buy?  Would 800 dpi really be helpful (output would be no better than HP\n",
      "LaserJet III or Canon BJ-200 - 300x300 to 360x360)?  I am leaning toward the\n",
      "Mustek because it offers the most features and is in the middle in terms of\n",
      "prices.  Which should I buy?\n",
      "\n",
      "If you have a hand scanner, please let me know whether or not you would\n",
      "recommend it.  Also, if you know of another scanner within the price range\n",
      "(under $225) that would be a better deal, please E-Mail me.  Any and all help\n",
      "would be greatly appreciated.\n",
      "\n",
      "- Kevin Harter\n",
      "\n"
     ]
    }
   ],
   "source": [
    "print(emails.data[5])"
   ]
  },
  {
   "cell_type": "code",
   "execution_count": 4,
   "id": "43363fd6",
   "metadata": {},
   "outputs": [
    {
     "name": "stdout",
     "output_type": "stream",
     "text": [
      "['comp.sys.ibm.pc.hardware', 'rec.sport.hockey'] 0\n"
     ]
    }
   ],
   "source": [
    "print(emails.target_names, emails.target[5])"
   ]
  },
  {
   "cell_type": "code",
   "execution_count": 5,
   "id": "eed01128",
   "metadata": {},
   "outputs": [],
   "source": [
    "train_emails = emails\n",
    "test_emails = fetch_20newsgroups(categories=['comp.sys.ibm.pc.hardware','rec.sport.hockey']\n",
    "                            , subset='test',shuffle=True,random_state=108)"
   ]
  },
  {
   "cell_type": "code",
   "execution_count": 6,
   "id": "ea813eb7",
   "metadata": {},
   "outputs": [],
   "source": [
    "counter = CountVectorizer()\n",
    "counter.fit(test_emails.data + train_emails.data)\n",
    "train_counts = counter.transform(train_emails.data)\n",
    "test_counts = counter.transform(test_emails.data)"
   ]
  },
  {
   "cell_type": "code",
   "execution_count": 7,
   "id": "8040ae4f",
   "metadata": {},
   "outputs": [
    {
     "name": "stdout",
     "output_type": "stream",
     "text": [
      "The accuracy of the classifier on the test data is 0.9974715549936789.\n"
     ]
    }
   ],
   "source": [
    "classifier = MultinomialNB()\n",
    "classifier.fit(train_counts,train_emails.target)\n",
    "print('The accuracy of the classifier on the test data is {}.'.format\n",
    "      (classifier.score(test_counts,test_emails.target)))"
   ]
  },
  {
   "cell_type": "code",
   "execution_count": null,
   "id": "aa8a3c74",
   "metadata": {},
   "outputs": [],
   "source": []
  }
 ],
 "metadata": {
  "kernelspec": {
   "display_name": "Python 3 (ipykernel)",
   "language": "python",
   "name": "python3"
  },
  "language_info": {
   "codemirror_mode": {
    "name": "ipython",
    "version": 3
   },
   "file_extension": ".py",
   "mimetype": "text/x-python",
   "name": "python",
   "nbconvert_exporter": "python",
   "pygments_lexer": "ipython3",
   "version": "3.11.5"
  }
 },
 "nbformat": 4,
 "nbformat_minor": 5
}
